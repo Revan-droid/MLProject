{
 "cells": [
  {
   "cell_type": "code",
   "execution_count": null,
   "id": "8ae26960",
   "metadata": {},
   "outputs": [],
   "source": [
    "import pandas as pd                                                  \n",
    "from sklearn.model_selection import train_test_split\n",
    "from sklearn.model_selection import StratifiedShuffleSplit\n",
    "from sklearn.ensemble import RandomForestRegressor\n",
    "import joblib\n",
    "\n",
    "# This is the data file, you can download this file from the github link provided.\n",
    "wine=pd.read_csv(\"UNSW_NB15.csv\")\n",
    "print(\"Dataset Loaded...\")\n",
    "# Performing train test split with stratified shuffle split.\n",
    "train_set, test_set  = train_test_split(wine, test_size=0.2, random_state=42)\n",
    "split = StratifiedShuffleSplit(n_splits=1, test_size=0.2, random_state=42)\n",
    "for train_index, test_index in split.split(wine, wine['Alchohol']):\n",
    "\tstrat_train_set = wine.loc[train_index]\n",
    "\tstrat_test_set = wine.loc[test_index]\n",
    "wine = strat_train_set.copy()\n",
    "wine = strat_train_set.drop(\"Wine\", axis=1)\n",
    "wine_labels = strat_train_set[\"Wine\"].copy()\n",
    "\n",
    "# Random Forest Regressor is used fo\n",
    "# \n",
    "# \n",
    "#  prediction.\n",
    "model = RandomForestRegressor()\n",
    "model.fit(wine, wine_labels)\n",
    "print(\"Model Training Ends...\")\n",
    "test_features=strat_test_set.drop(\"Wine\", axis=1)\n",
    "test_labels=strat_test_set[\"Wine\"].copy()\n",
    "y_labels=model.predict(test_features)\n",
    "x=list(y_labels)\n",
    "y=list(test_labels)\n",
    "accuracy=[]\n",
    "for i in range(len(test_labels)):\n",
    "\tif x[i]>y[i]:\n",
    "\t\taccuracy.append((y[i]/x[i])*100)\n",
    "\telse:\n",
    "\t\taccuracy.append((x[i]/y[i])*100)\n",
    "joblib.dump(model, \"rf_model.joblib\")\n",
    "print(\"Model Saved...\")\n",
    "acc=sum(accuracy)/len(x)\n",
    "print(\"Final Accuracy of the Model: \", acc)"
   ]
  },
  {
   "cell_type": "code",
   "execution_count": null,
   "id": "c6bb648b",
   "metadata": {},
   "outputs": [],
   "source": [
    "\n"
   ]
  },
  {
   "cell_type": "code",
   "execution_count": null,
   "id": "3816fdf2",
   "metadata": {},
   "outputs": [],
   "source": []
  }
 ],
 "metadata": {
  "kernelspec": {
   "display_name": "Python 3 (ipykernel)",
   "language": "python",
   "name": "python3"
  },
  "language_info": {
   "codemirror_mode": {
    "name": "ipython",
    "version": 3
   },
   "file_extension": ".py",
   "mimetype": "text/x-python",
   "name": "python",
   "nbconvert_exporter": "python",
   "pygments_lexer": "ipython3",
   "version": "3.9.13"
  }
 },
 "nbformat": 4,
 "nbformat_minor": 5
}
